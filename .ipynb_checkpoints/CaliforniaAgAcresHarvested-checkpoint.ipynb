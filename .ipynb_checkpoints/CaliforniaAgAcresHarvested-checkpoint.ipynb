{
 "cells": [
  {
   "cell_type": "code",
   "execution_count": 45,
   "metadata": {
    "scrolled": true
   },
   "outputs": [
    {
     "name": "stdout",
     "output_type": "stream",
     "text": [
      "     Year           County Harvested Acres\n",
      "0    1981          Alameda          237308\n",
      "1    1981           Amador          204659\n",
      "2    1981            Butte          582690\n",
      "3    1981        Calaveras          417289\n",
      "4    1981           Colusa          510650\n",
      "5    1981     Contra Costa          223193\n",
      "6    1981        Del Norte           31450\n",
      "7    1981        El Dorado          259076\n",
      "8    1981           Fresno         2408754\n",
      "9    1981            Glenn          495965\n",
      "10   1981         Humboldt          348142\n",
      "11   1981         Imperial          767846\n",
      "12   1981             Inyo          205111\n",
      "13   1981             Kern         3144245\n",
      "14   1981            Kings          958382\n",
      "15   1981             Lake          169650\n",
      "16   1981           Lassen          491310\n",
      "17   1981      Los Angeles          289352\n",
      "18   1981           Madera          752765\n",
      "19   1981            Marin          136040\n",
      "20   1981         Mariposa          416650\n",
      "21   1981        Mendocino          688951\n",
      "22   1981           Merced         1083911\n",
      "23   1981            Modoc          485939\n",
      "24   1981             Mono          101320\n",
      "25   1981         Monterey         1324877\n",
      "26   1981             Napa          148121\n",
      "27   1981           Nevada          118383\n",
      "28   1981           Orange           33153\n",
      "29   1981           Placer          285524\n",
      "..    ...              ...             ...\n",
      "433  2014           Nevada          105464\n",
      "434  2014           Orange             787\n",
      "435  2014           Placer          166172\n",
      "436  2014           Plumas          163000\n",
      "437  2014        Riverside          202516\n",
      "438  2014       Sacramento          206351\n",
      "439  2014       San Benito          553513\n",
      "440  2014   San Bernardino     1.38496e+06\n",
      "441  2014        San Diego          268992\n",
      "442  2014      San Joaquin          784766\n",
      "443  2014  San Luis Obispo     1.11532e+06\n",
      "444  2014        San Mateo           25522\n",
      "445  2014    Santa Barbara          711585\n",
      "446  2014      Santa Clara          245412\n",
      "447  2014       Santa Cruz           18328\n",
      "448  2014           Shasta          483450\n",
      "449  2014           Sierra           50940\n",
      "450  2014         Siskiyou          589436\n",
      "451  2014           Solano          358158\n",
      "452  2014           Sonoma          406303\n",
      "453  2014       Stanislaus          956527\n",
      "454  2014      State Total     2.90279e+07\n",
      "455  2014    Sum of Others          231130\n",
      "456  2014           Sutter          274740\n",
      "457  2014           Tehama     1.01497e+06\n",
      "458  2014           Tulare     1.45695e+06\n",
      "459  2014         Tuolumne          201751\n",
      "460  2014          Ventura          195930\n",
      "461  2014             Yolo          321041\n",
      "462  2014             Yuba          269797\n",
      "\n",
      "[463 rows x 3 columns]\n"
     ]
    },
    {
     "data": {
      "text/plain": [
       "<matplotlib.axes._subplots.AxesSubplot at 0x277a63a6780>"
      ]
     },
     "execution_count": 45,
     "metadata": {},
     "output_type": "execute_result"
    },
    {
     "data": {
      "image/png": "[encoded data removed]",
      "text/plain": [
       "<matplotlib.figure.Figure at 0x277a63a6898>"
      ]
     },
     "metadata": {},
     "output_type": "display_data"
    }
   ],
   "source": [
    "import pandas as pd\n",
    "import glob\n",
    "import matplotlib.pyplot as plt\n",
    "\n",
    "path =r'C:\\Users\\slalonde\\Documents\\Personal\\DataChallenge\\output\\CASS'\n",
    "filenames = glob.glob(path + \"\\*.csv\")\n",
    "\n",
    "dfs = []\n",
    "for filename in filenames:\n",
    "    dfs.append(pd.read_csv(filename))\n",
    "\n",
    "# Concatenate all csv data into one DataFrame\n",
    "fullDf = pd.concat(dfs, ignore_index=True)\n",
    "filterDf = fullDf[['Year','Harvested Acres','County']].dropna(subset=['Harvested Acres']).copy()\n",
    "plotDf = filterDf.groupby(['Year','County'])['Harvested Acres'].sum().reset_index()\n",
    "pivotDf = plotDf.pivot(index='Year',columns='County', values='Harvested Acres')\n",
    "pivotDf.loc[:,['Fresno','Tulare', 'Kern', 'Lassen', 'Monterey']].plot.bar(stacked=True, figsize=(10,7))\n",
    "\n"
   ]
  },
  {
   "cell_type": "code",
   "execution_count": null,
   "metadata": {},
   "outputs": [],
   "source": []
  },
  {
   "cell_type": "code",
   "execution_count": null,
   "metadata": {},
   "outputs": [],
   "source": []
  },
  {
   "cell_type": "code",
   "execution_count": null,
   "metadata": {},
   "outputs": [],
   "source": []
  },
  {
   "cell_type": "code",
   "execution_count": null,
   "metadata": {},
   "outputs": [],
   "source": []
  },
  {
   "cell_type": "code",
   "execution_count": null,
   "metadata": {},
   "outputs": [],
   "source": []
  },
  {
   "cell_type": "code",
   "execution_count": null,
   "metadata": {},
   "outputs": [],
   "source": []
  }
 ],
 "metadata": {
  "kernelspec": {
   "display_name": "Python 3",
   "language": "python",
   "name": "python3"
  },
  "language_info": {
   "codemirror_mode": {
    "name": "ipython",
    "version": 3
   },
   "file_extension": ".py",
   "mimetype": "text/x-python",
   "name": "python",
   "nbconvert_exporter": "python",
   "pygments_lexer": "ipython3",
   "version": "3.6.4"
  }
 },
 "nbformat": 4,
 "nbformat_minor": 2
}
