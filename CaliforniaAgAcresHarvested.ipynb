{
 "cells": [
  {
   "cell_type": "code",
   "execution_count": 20,
   "metadata": {
    "scrolled": true
   },
   "outputs": [
    {
     "name": "stdout",
     "output_type": "stream",
     "text": [
      "       Year Harvested Acres          County\n",
      "14     1998               0    State Totals\n",
      "15     1998           31117          Butte \n",
      "16     1998           20150         Colusa \n",
      "17     1998           46968         Fresno \n",
      "18     1998           21339          Glenn \n",
      "19     1998           79587           Kern \n",
      "20     1998            2097          Kings \n",
      "21     1998           43635         Madera \n",
      "22     1998           74182         Merced \n",
      "23     1998             158     Sacramento \n",
      "24     1998           38500    San Joaquin \n",
      "25     1998            1501         Solano \n",
      "26     1998           87000     Stanislaus \n",
      "27     1998            4026         Sutter \n",
      "28     1998            5650         Tehama \n",
      "29     1998           13395         Tulare \n",
      "30     1998            5879           Yolo \n",
      "31     1998            1181           Yuba \n",
      "32     1998            1202  Sum of Others \n",
      "33     1998          477567    State Totals\n",
      "34     1998             492       Monterey \n",
      "35     1998             208  Sum of Others \n",
      "36     1998             700    State Totals\n",
      "38     1998               0    State Totals\n",
      "46     1998               0    State Totals\n",
      "56     1998               0    State Totals\n",
      "72     1998               0    State Totals\n",
      "96     1998               0    State Totals\n",
      "124    1998               0    State Totals\n",
      "151    1998               0    State Totals\n",
      "...     ...             ...             ...\n",
      "92401  2014           16300          Colusa\n",
      "92402  2014             807    Contra Costa\n",
      "92403  2014            9950          Fresno\n",
      "92404  2014           17200           Glenn\n",
      "92405  2014           37800        Imperial\n",
      "92406  2014           27600            Kern\n",
      "92407  2014           15400           Kings\n",
      "92408  2014            2780          Lassen\n",
      "92409  2014            2600          Madera\n",
      "92410  2014           21600          Merced\n",
      "92411  2014             800        Monterey\n",
      "92412  2014             450          Placer\n",
      "92413  2014           10600       Riverside\n",
      "92414  2014            9230      Sacramento\n",
      "92415  2014           23000     San Joaquin\n",
      "92416  2014           16800        Siskiyou\n",
      "92417  2014           21700          Solano\n",
      "92418  2014            2900      Stanislaus\n",
      "92419  2014            7130          Sutter\n",
      "92420  2014            2610          Tehama\n",
      "92421  2014            5810          Tulare\n",
      "92422  2014           29200            Yolo\n",
      "92423  2014             353   Sum of Others\n",
      "92424  2014          283220     State Total\n",
      "92425  2014             225          Colusa\n",
      "92426  2014             414        Siskiyou\n",
      "92427  2014             575          Solano\n",
      "92428  2014             732          Sutter\n",
      "92429  2014            1329   Sum of Others\n",
      "92430  2014            3275     State Total\n",
      "\n",
      "[16348 rows x 3 columns]\n"
     ]
    },
    {
     "name": "stderr",
     "output_type": "stream",
     "text": [
      "C:\\Users\\slalonde\\Anaconda3\\lib\\site-packages\\ipykernel_launcher.py:19: FutureWarning: \n",
      "Passing list-likes to .loc or [] with any missing label will raise\n",
      "KeyError in the future, you can use .reindex() as an alternative.\n",
      "\n",
      "See the documentation here:\n",
      "http://pandas.pydata.org/pandas-docs/stable/indexing.html#deprecate-loc-reindex-listlike\n",
      "C:\\Users\\slalonde\\Anaconda3\\lib\\site-packages\\pandas\\core\\indexing.py:1367: FutureWarning: \n",
      "Passing list-likes to .loc or [] with any missing label will raise\n",
      "KeyError in the future, you can use .reindex() as an alternative.\n",
      "\n",
      "See the documentation here:\n",
      "http://pandas.pydata.org/pandas-docs/stable/indexing.html#deprecate-loc-reindex-listlike\n",
      "  return self._getitem_tuple(key)\n"
     ]
    },
    {
     "data": {
      "text/plain": [
       "<matplotlib.axes._subplots.AxesSubplot at 0x277a4d440f0>"
      ]
     },
     "execution_count": 20,
     "metadata": {},
     "output_type": "execute_result"
    },
    {
     "data": {
      "image/png": "[encoded data removed]",
      "text/plain": [
       "<matplotlib.figure.Figure at 0x277a4d75b00>"
      ]
     },
     "metadata": {},
     "output_type": "display_data"
    }
   ],
   "source": [
    "import pandas as pd\n",
    "import glob\n",
    "import matplotlib.pyplot as plt\n",
    "\n",
    "path =r'C:\\Users\\slalonde\\Documents\\Personal\\DataChallenge\\output\\CASS'\n",
    "filenames = glob.glob(path + \"\\*.csv\")\n",
    "\n",
    "dfs = []\n",
    "for filename in filenames:\n",
    "    dfs.append(pd.read_csv(filename))\n",
    "\n",
    "# Concatenate all csv data into one DataFrame\n",
    "fullDf = pd.concat(dfs, ignore_index=True)\n",
    "filterDf = fullDf[['Year','Harvested Acres','County']].dropna().copy()\n",
    "filterDf2 = filterDf.loc[(filterDf['County']=='Fresno') | (filterDf['County']=='Tulare') | (filterDf['County']=='Kern')].reindex() \n",
    "plotDf = filterDf2.groupby(['Year','County'])['Harvested Acres'].sum().reset_index()\n",
    "pivotDf = plotDf.pivot(index='Year',columns='County', values='Harvested Acres')\n",
    "print(filterDf)\n",
    "pivotDf.loc[:,['Fresno','Tulare', 'Kern', 'Lassen', 'Monterey']].plot.bar(stacked=True, figsize=(10,7))\n",
    "\n"
   ]
  },
  {
   "cell_type": "code",
   "execution_count": null,
   "metadata": {},
   "outputs": [],
   "source": []
  },
  {
   "cell_type": "code",
   "execution_count": null,
   "metadata": {},
   "outputs": [],
   "source": []
  },
  {
   "cell_type": "code",
   "execution_count": null,
   "metadata": {},
   "outputs": [],
   "source": []
  },
  {
   "cell_type": "code",
   "execution_count": null,
   "metadata": {},
   "outputs": [],
   "source": []
  },
  {
   "cell_type": "code",
   "execution_count": null,
   "metadata": {},
   "outputs": [],
   "source": []
  },
  {
   "cell_type": "code",
   "execution_count": null,
   "metadata": {},
   "outputs": [],
   "source": []
  }
 ],
 "metadata": {
  "kernelspec": {
   "display_name": "Python 3",
   "language": "python",
   "name": "python3"
  },
  "language_info": {
   "codemirror_mode": {
    "name": "ipython",
    "version": 3
   },
   "file_extension": ".py",
   "mimetype": "text/x-python",
   "name": "python",
   "nbconvert_exporter": "python",
   "pygments_lexer": "ipython3",
   "version": "3.6.4"
  }
 },
 "nbformat": 4,
 "nbformat_minor": 2
}
