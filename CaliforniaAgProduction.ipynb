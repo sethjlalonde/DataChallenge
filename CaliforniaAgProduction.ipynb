{
 "cells": [
  {
   "cell_type": "code",
   "execution_count": 74,
   "metadata": {},
   "outputs": [
    {
     "name": "stdout",
     "output_type": "stream",
     "text": [
      "       Year Harvested Acres            County\n",
      "0      1980                            Butte \n",
      "1      1980                           Colusa \n",
      "2      1980                           Fresno \n",
      "3      1980                             Kern \n",
      "4      1980                            Kings \n",
      "5      1980                           Madera \n",
      "6      1980                           Merced \n",
      "7      1980                      San Joaquin \n",
      "8      1980                           Solano \n",
      "9      1980                       Stanislaus \n",
      "10     1980                           Sutter \n",
      "11     1980                           Tulare \n",
      "12     1980                             Yuba \n",
      "13     1980               0      State Totals\n",
      "14     1980           31468            Butte \n",
      "15     1980                        Calaveras \n",
      "16     1980           14000           Colusa \n",
      "17     1980            2990     Contra Costa \n",
      "18     1980           23992           Fresno \n",
      "19     1980            8691            Glenn \n",
      "20     1980           61040             Kern \n",
      "21     1980            4847            Kings \n",
      "22     1980             175             Lake \n",
      "23     1980             395      Los Angeles \n",
      "24     1980           19960           Madera \n",
      "25     1980           44673           Merced \n",
      "26     1980           30908      San Joaquin \n",
      "27     1980            6184  San Luis Obispo \n",
      "28     1980            2970           Solano \n",
      "29     1980           45300       Stanislaus \n",
      "...     ...             ...               ...\n",
      "93031  2014           16300            Colusa\n",
      "93032  2014             807      Contra Costa\n",
      "93033  2014            9950            Fresno\n",
      "93034  2014           17200             Glenn\n",
      "93035  2014           37800          Imperial\n",
      "93036  2014           27600              Kern\n",
      "93037  2014           15400             Kings\n",
      "93038  2014            2780            Lassen\n",
      "93039  2014            2600            Madera\n",
      "93040  2014           21600            Merced\n",
      "93041  2014             800          Monterey\n",
      "93042  2014             450            Placer\n",
      "93043  2014           10600         Riverside\n",
      "93044  2014            9230        Sacramento\n",
      "93045  2014           23000       San Joaquin\n",
      "93046  2014           16800          Siskiyou\n",
      "93047  2014           21700            Solano\n",
      "93048  2014            2900        Stanislaus\n",
      "93049  2014            7130            Sutter\n",
      "93050  2014            2610            Tehama\n",
      "93051  2014            5810            Tulare\n",
      "93052  2014           29200              Yolo\n",
      "93053  2014             353     Sum of Others\n",
      "93054  2014          283220       State Total\n",
      "93055  2014             225            Colusa\n",
      "93056  2014             414          Siskiyou\n",
      "93057  2014             575            Solano\n",
      "93058  2014             732            Sutter\n",
      "93059  2014            1329     Sum of Others\n",
      "93060  2014            3275       State Total\n",
      "\n",
      "[10310 rows x 3 columns]\n"
     ]
    },
    {
     "data": {
      "text/plain": [
       "<matplotlib.axes._subplots.AxesSubplot at 0x23922745588>"
      ]
     },
     "execution_count": 74,
     "metadata": {},
     "output_type": "execute_result"
    },
    {
     "data": {
      "image/png": "[encoded data removed]",
      "text/plain": [
       "<matplotlib.figure.Figure at 0x23922745a90>"
      ]
     },
     "metadata": {},
     "output_type": "display_data"
    }
   ],
   "source": [
    "import pandas as pd\n",
    "import glob\n",
    "import matplotlib.pyplot as plt\n",
    "\n",
    "path =r'C:\\Users\\slalonde\\Documents\\Personal\\DataChallenge\\output\\CASS'\n",
    "filenames = glob.glob(path + \"\\*.csv\")\n",
    "\n",
    "dfs = []\n",
    "for filename in filenames:\n",
    "    dfs.append(pd.read_csv(filename))\n",
    "\n",
    "# Concatenate all csv data into one DataFrame\n",
    "fullDf = pd.concat(dfs, ignore_index=True)\n",
    "filterDf = fullDf[['Year','Harvested Acres','County']].dropna(subset=['Harvested Acres']).copy()\n",
    "\n",
    "\n",
    "plotDf = filterDf.groupby(['Year','County'])['Harvested Acres'].sum().reset_index()\n",
    "print(filterDf)\n",
    "pivotDf = plotDf.pivot(index='Year',columns='County', values='Harvested Acres')\n",
    "pivotDf.loc[:,['Fresno','Tulare', 'Kern', 'Lassen', 'Monterey']].plot.bar(stacked=True, figsize=(10,7))\n",
    "\n",
    "#plotDf[['Harvested Acres']].plot(kind='bar', stacked=True)\n",
    "\n",
    "#print(plotDf)\n"
   ]
  },
  {
   "cell_type": "code",
   "execution_count": null,
   "metadata": {},
   "outputs": [],
   "source": []
  },
  {
   "cell_type": "code",
   "execution_count": null,
   "metadata": {},
   "outputs": [],
   "source": []
  },
  {
   "cell_type": "code",
   "execution_count": null,
   "metadata": {},
   "outputs": [],
   "source": []
  },
  {
   "cell_type": "code",
   "execution_count": null,
   "metadata": {},
   "outputs": [],
   "source": []
  },
  {
   "cell_type": "code",
   "execution_count": null,
   "metadata": {},
   "outputs": [],
   "source": []
  },
  {
   "cell_type": "code",
   "execution_count": null,
   "metadata": {},
   "outputs": [],
   "source": []
  }
 ],
 "metadata": {
  "kernelspec": {
   "display_name": "Python 3",
   "language": "python",
   "name": "python3"
  },
  "language_info": {
   "codemirror_mode": {
    "name": "ipython",
    "version": 3
   },
   "file_extension": ".py",
   "mimetype": "text/x-python",
   "name": "python",
   "nbconvert_exporter": "python",
   "pygments_lexer": "ipython3",
   "version": "3.6.4"
  }
 },
 "nbformat": 4,
 "nbformat_minor": 2
}
